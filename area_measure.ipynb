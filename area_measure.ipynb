{
 "cells": [
  {
   "cell_type": "code",
   "execution_count": null,
   "id": "f784ce25",
   "metadata": {},
   "outputs": [],
   "source": [
    "import numpy as np\n",
    "\n",
    "lat1 = -6.301901332488\n",
    "lat2 = -5.750021259252666\n",
    "lon1 = -50.84648361667641\n",
    "lon2 = -53.07839660376309\n",
    "R = 6371\n",
    "\n",
    "A = 2 * np.pi * R**2 * abs(np.sin(lat1) - np.sin(lat2)) * abs(lon1 - lon2) / 360\n",
    "print(\"Área = \" + str(round(A, 2)) + \" km^2.\")"
   ]
  },
  {
   "cell_type": "code",
   "execution_count": null,
   "id": "7857dc3a",
   "metadata": {},
   "outputs": [],
   "source": [
    "pip install functools"
   ]
  }
 ],
 "metadata": {
  "kernelspec": {
   "display_name": "Python 3 (ipykernel)",
   "language": "python",
   "name": "python3"
  },
  "language_info": {
   "codemirror_mode": {
    "name": "ipython",
    "version": 3
   },
   "file_extension": ".py",
   "mimetype": "text/x-python",
   "name": "python",
   "nbconvert_exporter": "python",
   "pygments_lexer": "ipython3",
   "version": "3.9.7"
  }
 },
 "nbformat": 4,
 "nbformat_minor": 5
}
