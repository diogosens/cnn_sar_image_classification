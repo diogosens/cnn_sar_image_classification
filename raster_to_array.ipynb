{
 "cells": [
  {
   "cell_type": "code",
   "execution_count": null,
   "id": "b0a7c988",
   "metadata": {},
   "outputs": [],
   "source": [
    "#libraries\n",
    "from osgeo import gdal\n",
    "import numpy as np"
   ]
  },
  {
   "cell_type": "code",
   "execution_count": null,
   "id": "b4b0abc6",
   "metadata": {},
   "outputs": [],
   "source": [
    "# opening the list of swath array shapes\n",
    "swath_array_shapes = []"
   ]
  },
  {
   "cell_type": "code",
   "execution_count": null,
   "id": "0b08fdd1",
   "metadata": {},
   "outputs": [],
   "source": [
    "#looping through the swaths\n",
    "for i in range(3):\n",
    "    for j in range(9):\n",
    "        \n",
    "        # reading the i_j swath\n",
    "        dataset = (gdal.Open(\n",
    "            r'tif_files/S1A_IW_SLC__1SDV_20210705T090737_'\n",
    "            + '20210705T090804_038640_048F41_253E_split_'\n",
    "            + str(i + 1) + '_' + str(j + 1)\n",
    "            + '_Orb_TNR_Cal_deb_ML_Lee3.tif'))\n",
    "        \n",
    "        #getting the raster bands\n",
    "        band1 = dataset.GetRasterBand(1) # Red channel\n",
    "        band2 = dataset.GetRasterBand(2) # Green channel\n",
    "        b1 = band1.ReadAsArray()\n",
    "        b2 = band2.ReadAsArray()\n",
    "        b3 = np.divide(b1, b2) # Blue channel\n",
    "        b3 = np.nan_to_num(b3)\n",
    "        swath_array = np.dstack((b1, b2, b3))\n",
    "\n",
    "        #remove black boards\n",
    "        while np.prod(sum(swath_array)) == 0:\n",
    "            if sum(sum(swath_array[:,0,:])) == 0:\n",
    "                swath_array = np.delete(swath_array, 0, 1)\n",
    "            if sum(sum(swath_array[:,-1,:])) == 0:\n",
    "                swath_array = np.delete(swath_array, -1, 1)\n",
    "            if sum(sum(swath_array[0,:,:])) == 0:\n",
    "                swath_array = np.delete(swath_array, 0, 0)\n",
    "            if sum(sum(swath_array[-1,:,:])) == 0:\n",
    "                swath_array = np.delete(swath_array, -1, 0)\n",
    "\n",
    "        #flip array horizontally\n",
    "        swath_array = np.flip(swath_array, 1)\n",
    "        \n",
    "        #filling the swath array shapes list  \n",
    "        swath_array_shapes.append(swath_array.shape)\n",
    "        \n",
    "        #saving 3D-arrays as 2D-txt\n",
    "        reshaped_array = swath_array.reshape(swath_array.shape[0], -1)\n",
    "        np.savetxt(\"txt_files/swath_\" + str(i + 1) + \"_\" + str(j + 1)\n",
    "                   + \".txt\", reshaped_array)\n",
    "        \n",
    "        #dimensions of cropped samples in each swath\n",
    "        x_len = 358\n",
    "        y_len = 363\n",
    "        \n",
    "        #number of crooped samples for each row in each swath\n",
    "        if i == 0:\n",
    "            samples = 19\n",
    "        elif i == 1:\n",
    "            samples = 17\n",
    "        else:\n",
    "            samples = 16\n",
    "            \n",
    "        #looping through samples in a given swath\n",
    "        for k in range(4):\n",
    "            for l in range(samples):\n",
    "                cropped_array = swath_array[\n",
    "                    0 + y_len * k : y_len * (1 + k),\n",
    "                    0 + x_len * l : x_len * (1 + l), :]\n",
    "                reshaped_array = cropped_array.reshape(\n",
    "                    cropped_array.shape[0], -1)\n",
    "                (np.savetxt(\"txt_files/cropped_\" + str(i + 1) + \"_\"\n",
    "                            + str(j + 1) + \"_\" + str(k + 1) + \"_\" +\n",
    "                            str(l + 1) + \".txt\", reshaped_array))"
   ]
  },
  {
   "cell_type": "code",
   "execution_count": null,
   "id": "ddd04709",
   "metadata": {},
   "outputs": [],
   "source": [
    "#saving the swath array shapes list as txt\n",
    "np.savetxt(\"txt_files/swath_array_shapes.txt\", swath_array_shapes)"
   ]
  }
 ],
 "metadata": {
  "kernelspec": {
   "display_name": "Python 3 (ipykernel)",
   "language": "python",
   "name": "python3"
  },
  "language_info": {
   "codemirror_mode": {
    "name": "ipython",
    "version": 3
   },
   "file_extension": ".py",
   "mimetype": "text/x-python",
   "name": "python",
   "nbconvert_exporter": "python",
   "pygments_lexer": "ipython3",
   "version": "3.9.7"
  }
 },
 "nbformat": 4,
 "nbformat_minor": 5
}
