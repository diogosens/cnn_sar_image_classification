{
 "cells": [
  {
   "cell_type": "code",
   "execution_count": null,
   "metadata": {
    "colab": {
     "base_uri": "https://localhost:8080/"
    },
    "executionInfo": {
     "elapsed": 24113,
     "status": "ok",
     "timestamp": 1635615389879,
     "user": {
      "displayName": "Diogo Sens",
      "photoUrl": "https://lh3.googleusercontent.com/a-/AOh14GgSHKqFTP-vX5KLJTdjcPzIATDC0RQQmAYcaoD65g=s64",
      "userId": "17020195363774089003"
     },
     "user_tz": 180
    },
    "id": "qIuY44OTRSsa",
    "outputId": "91581781-9afb-48db-8452-10fd3960d09a"
   },
   "outputs": [],
   "source": [
    "#accessing Google Drive\n",
    "\n",
    "from google.colab import drive\n",
    "drive.mount('/content/drive')"
   ]
  },
  {
   "cell_type": "code",
   "execution_count": null,
   "metadata": {
    "colab": {
     "base_uri": "https://localhost:8080/",
     "height": 1000
    },
    "executionInfo": {
     "elapsed": 8058,
     "status": "ok",
     "timestamp": 1635615721570,
     "user": {
      "displayName": "Diogo Sens",
      "photoUrl": "https://lh3.googleusercontent.com/a-/AOh14GgSHKqFTP-vX5KLJTdjcPzIATDC0RQQmAYcaoD65g=s64",
      "userId": "17020195363774089003"
     },
     "user_tz": 180
    },
    "id": "Shd2nhyrQvlZ",
    "outputId": "4a1b4d9c-ad06-4f81-f322-5c263fe2cd2c"
   },
   "outputs": [],
   "source": [
    "from keras.utils.vis_utils import plot_model\n",
    "import numpy as np\n",
    "from tensorflow.keras.models import load_model\n",
    "from sklearn.metrics import confusion_matrix\n",
    "import itertools\n",
    "import matplotlib.pyplot as plt\n",
    "\n",
    "#choosing the number of labels\n",
    "\n",
    "number_labels = int(input(\"Number of labels? \"))\n",
    "number_epochs = int(input(\"Number of epochs? \"))\n",
    "\n",
    "model = (load_model('/content/drive/MyDrive/TCC2/models/cnn_'\n",
    "                    + str(number_labels) + '_Labels_' + str(number_epochs)\n",
    "                    + '_epochs.h5'))\n",
    "\n",
    "# tf.keras.utils.\n",
    "plot_model(\n",
    "model, to_file='model.png', show_shapes=True, show_dtype=True,\n",
    "show_layer_names=True, rankdir='TB', expand_nested=True, dpi=96\n",
    ")"
   ]
  },
  {
   "cell_type": "code",
   "execution_count": null,
   "metadata": {
    "colab": {
     "base_uri": "https://localhost:8080/",
     "height": 1000
    },
    "executionInfo": {
     "elapsed": 786,
     "status": "ok",
     "timestamp": 1635615843576,
     "user": {
      "displayName": "Diogo Sens",
      "photoUrl": "https://lh3.googleusercontent.com/a-/AOh14GgSHKqFTP-vX5KLJTdjcPzIATDC0RQQmAYcaoD65g=s64",
      "userId": "17020195363774089003"
     },
     "user_tz": 180
    },
    "id": "oxeMuKArTLyL",
    "outputId": "536e97fa-9165-4c34-e598-e30311336ed5"
   },
   "outputs": [],
   "source": [
    "import visualkeras\n",
    "visualkeras.layered_view(model)"
   ]
  }
 ],
 "metadata": {
  "colab": {
   "authorship_tag": "ABX9TyMGwxxnuq9v9dDpkjWNBgE7",
   "name": "cnn_diagram.ipynb",
   "provenance": []
  },
  "kernelspec": {
   "display_name": "Python 3 (ipykernel)",
   "language": "python",
   "name": "python3"
  },
  "language_info": {
   "codemirror_mode": {
    "name": "ipython",
    "version": 3
   },
   "file_extension": ".py",
   "mimetype": "text/x-python",
   "name": "python",
   "nbconvert_exporter": "python",
   "pygments_lexer": "ipython3",
   "version": "3.9.7"
  }
 },
 "nbformat": 4,
 "nbformat_minor": 1
}
