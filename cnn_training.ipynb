{
 "cells": [
  {
   "cell_type": "code",
   "execution_count": null,
   "metadata": {
    "colab": {
     "base_uri": "https://localhost:8080/"
    },
    "executionInfo": {
     "elapsed": 24893,
     "status": "ok",
     "timestamp": 1635469136593,
     "user": {
      "displayName": "Diogo Sens",
      "photoUrl": "https://lh3.googleusercontent.com/a-/AOh14GgSHKqFTP-vX5KLJTdjcPzIATDC0RQQmAYcaoD65g=s64",
      "userId": "17020195363774089003"
     },
     "user_tz": 180
    },
    "id": "ugegU5gCYpbb",
    "outputId": "3f0289db-5607-4762-ad7f-5b568ba91e61"
   },
   "outputs": [],
   "source": [
    "#accessing Google Drive\n",
    "\n",
    "from google.colab import drive\n",
    "drive.mount('/content/drive')"
   ]
  },
  {
   "cell_type": "code",
   "execution_count": null,
   "metadata": {
    "id": "sUYcm3CeLCju"
   },
   "outputs": [],
   "source": [
    "#libraries\n",
    "\n",
    "import numpy as np\n",
    "import matplotlib.pyplot as plt\n",
    "from matplotlib.ticker import MaxNLocator\n",
    "import tensorflow as tf\n",
    "\n",
    "from tensorflow import keras\n",
    "from tensorflow.keras import datasets, layers, models\n",
    "from keras.models import Sequential\n",
    "from keras.layers.core import Flatten, Dense, Dropout\n",
    "from keras.layers.convolutional import Convolution2D, MaxPooling2D"
   ]
  },
  {
   "cell_type": "code",
   "execution_count": null,
   "metadata": {
    "id": "sjXz2ZwGCp7V"
   },
   "outputs": [],
   "source": [
    "#functions\n",
    "\n",
    "def number_of_labels(number_labels):\n",
    "  if number_labels == 4:\n",
    "\n",
    "    #keeping 4 labels\n",
    "    #(changing label range)\n",
    "    train_labels[train_labels == 1] = 0\n",
    "    valid_labels[valid_labels == 1] = 0\n",
    "    train_labels[train_labels == 2] = 1\n",
    "    valid_labels[valid_labels == 2] = 1\n",
    "    train_labels[train_labels == 3] = 2\n",
    "    valid_labels[valid_labels == 3] = 2\n",
    "    train_labels[train_labels == 4] = 3\n",
    "    valid_labels[valid_labels == 4] = 3\n",
    "\n",
    "  elif number_labels == 3:\n",
    "\n",
    "    #changing from 4 to 3 labels\n",
    "    #(merging partially deforested and partially preserved)\n",
    "    train_labels[train_labels == 3] = 2\n",
    "    valid_labels[valid_labels == 3] = 2\n",
    "    train_labels[train_labels == 1] = 0\n",
    "    valid_labels[valid_labels == 1] = 0\n",
    "    train_labels[train_labels == 2] = 1\n",
    "    valid_labels[valid_labels == 2] = 1\n",
    "    train_labels[train_labels == 4] = 2\n",
    "    valid_labels[valid_labels == 4] = 2\n",
    "\n",
    "  elif number_labels == 2:\n",
    "\n",
    "    #changing from 4 to 2 labels\n",
    "    #(merging partially deforested, partially preserved\n",
    "    #and totally deforested)\n",
    "    train_labels[train_labels == 3] = 1\n",
    "    valid_labels[valid_labels == 3] = 1\n",
    "    train_labels[train_labels == 2] = 1\n",
    "    valid_labels[valid_labels == 2] = 1\n",
    "    train_labels[train_labels == 1] = 0\n",
    "    valid_labels[valid_labels == 1] = 0\n",
    "    train_labels[train_labels == 4] = 1\n",
    "    valid_labels[valid_labels == 4] = 1"
   ]
  },
  {
   "cell_type": "code",
   "execution_count": null,
   "metadata": {
    "id": "XwFGlP4oNVqn"
   },
   "outputs": [],
   "source": [
    "#loading datasets\n",
    "\n",
    "train_images = np.load(\"/content/drive/MyDrive/TCC2/npy_files/\"\n",
    "                        + \"train_images.npy\")\n",
    "valid_images = np.load(\"/content/drive/MyDrive/TCC2/npy_files/\"\n",
    "                        + \"valid_images.npy\")\n",
    "train_labels = np.load(\"/content/drive/MyDrive/TCC2/npy_files/\"\n",
    "                        + \"train_labels.npy\")\n",
    "valid_labels = np.load(\"/content/drive/MyDrive/TCC2/npy_files/\"\n",
    "                        + \"valid_labels.npy\")"
   ]
  },
  {
   "cell_type": "code",
   "execution_count": null,
   "metadata": {
    "colab": {
     "base_uri": "https://localhost:8080/"
    },
    "executionInfo": {
     "elapsed": 70770,
     "status": "ok",
     "timestamp": 1635469254427,
     "user": {
      "displayName": "Diogo Sens",
      "photoUrl": "https://lh3.googleusercontent.com/a-/AOh14GgSHKqFTP-vX5KLJTdjcPzIATDC0RQQmAYcaoD65g=s64",
      "userId": "17020195363774089003"
     },
     "user_tz": 180
    },
    "id": "wPKnrP3ZCRgm",
    "outputId": "2d6f9c58-99dc-4b81-bac7-a322f7f7b5fe"
   },
   "outputs": [],
   "source": [
    "#choosing the number of labels\n",
    "\n",
    "number_labels = int(input(\"Number of labels? \"))\n",
    "number_epochs = int(input(\"Number of epochs? \"))\n",
    "\n",
    "number_of_labels(number_labels)"
   ]
  },
  {
   "cell_type": "code",
   "execution_count": null,
   "metadata": {
    "id": "tGHo8gorP9mB"
   },
   "outputs": [],
   "source": [
    "#creating convolutional model\n",
    "\n",
    "model = models.Sequential()\n",
    "\n",
    "model.add(layers.Conv2D(64, (3, 3), activation='relu',\n",
    "                        input_shape=(363, 358, 3)))\n",
    "model.add(layers.MaxPooling2D((2, 2)))\n",
    "\n",
    "model.add(layers.Conv2D(128, (3, 3), activation='relu'))\n",
    "model.add(layers.MaxPooling2D((2, 2)))\n",
    "\n",
    "model.add(layers.Conv2D(256, (3, 3), activation='relu'))\n",
    "model.add(layers.MaxPooling2D((2, 2)))\n",
    "\n",
    "model.add(layers.Conv2D(512, (3, 3), activation='relu'))\n",
    "model.add(layers.MaxPooling2D((2, 2)))\n",
    "\n",
    "model.add(layers.Conv2D(1024, (3, 3), activation='relu'))\n",
    "model.add(layers.MaxPooling2D((2, 2)))\n",
    "\n",
    "model.add(layers.Flatten())\n",
    "model.add(layers.Dense(1024, activation='relu'))\n",
    "model.add(layers.Dropout(rate=0.5))\n",
    "model.add(layers.Dense(1024, activation='relu'))\n",
    "model.add(layers.Dropout(rate=0.5))\n",
    "model.add(layers.Dense(number_labels, activation='softmax'))"
   ]
  },
  {
   "cell_type": "code",
   "execution_count": null,
   "metadata": {
    "id": "yRMaT28Lscex"
   },
   "outputs": [],
   "source": [
    "#compiling the model\n",
    "\n",
    "model.compile(optimizer = 'Adam',\n",
    "              loss = 'sparse_categorical_crossentropy',\n",
    "              metrics = ['accuracy'])"
   ]
  },
  {
   "cell_type": "code",
   "execution_count": null,
   "metadata": {
    "colab": {
     "base_uri": "https://localhost:8080/"
    },
    "executionInfo": {
     "elapsed": 446143,
     "status": "ok",
     "timestamp": 1635469703772,
     "user": {
      "displayName": "Diogo Sens",
      "photoUrl": "https://lh3.googleusercontent.com/a-/AOh14GgSHKqFTP-vX5KLJTdjcPzIATDC0RQQmAYcaoD65g=s64",
      "userId": "17020195363774089003"
     },
     "user_tz": 180
    },
    "id": "uXjp2N3FqbDy",
    "outputId": "c4b0fabf-7838-40c5-ef23-0392098c2fc5"
   },
   "outputs": [],
   "source": [
    "#training the model\n",
    "\n",
    "history = model.fit(x = train_images,\n",
    "                    y = train_labels,\n",
    "                    validation_data = (valid_images, valid_labels),\n",
    "                    batch_size = 10,\n",
    "                    epochs = number_epochs,\n",
    "                    verbose = 2)"
   ]
  },
  {
   "cell_type": "code",
   "execution_count": null,
   "metadata": {
    "colab": {
     "base_uri": "https://localhost:8080/"
    },
    "executionInfo": {
     "elapsed": 4604,
     "status": "ok",
     "timestamp": 1635469708366,
     "user": {
      "displayName": "Diogo Sens",
      "photoUrl": "https://lh3.googleusercontent.com/a-/AOh14GgSHKqFTP-vX5KLJTdjcPzIATDC0RQQmAYcaoD65g=s64",
      "userId": "17020195363774089003"
     },
     "user_tz": 180
    },
    "id": "O3XNChVa8qqj",
    "outputId": "281fb2de-5d40-48e8-c411-97ffedc065fe"
   },
   "outputs": [],
   "source": [
    "#evaluating the model\n",
    "\n",
    "test_loss, test_acc = model.evaluate(valid_images, valid_labels,\n",
    "                                     verbose=2)"
   ]
  },
  {
   "cell_type": "code",
   "execution_count": null,
   "metadata": {
    "colab": {
     "base_uri": "https://localhost:8080/",
     "height": 317
    },
    "executionInfo": {
     "elapsed": 1135,
     "status": "ok",
     "timestamp": 1635469709491,
     "user": {
      "displayName": "Diogo Sens",
      "photoUrl": "https://lh3.googleusercontent.com/a-/AOh14GgSHKqFTP-vX5KLJTdjcPzIATDC0RQQmAYcaoD65g=s64",
      "userId": "17020195363774089003"
     },
     "user_tz": 180
    },
    "id": "3wTy6IxUbjIC",
    "outputId": "279d8fa7-0d88-4514-e95d-d92f82874733"
   },
   "outputs": [],
   "source": [
    "#plotting the chart\n",
    "\n",
    "plt.figure().gca().xaxis.set_major_locator(MaxNLocator(integer=True))\n",
    "plt.plot(list(np.arange(1,number_epochs+1)),\n",
    "         history.history['accuracy'], label='Treino')\n",
    "plt.plot(list(np.arange(1,number_epochs+1)),\n",
    "         history.history['val_accuracy'], label = 'Validação')\n",
    "plt.axhline(test_acc, color='r',\n",
    "            label=str(round(test_acc*100, 2)) + \"%\", linewidth=0.5)\n",
    "plt.xlabel('Época')\n",
    "plt.ylabel('Acurácia')\n",
    "plt.title('Acurária do Treino/Validação por Época')\n",
    "plt.ylim([0.5, 1])\n",
    "plt.xlim([1, number_epochs])\n",
    "plt.legend(loc='lower right')\n",
    "plt.plot()"
   ]
  },
  {
   "cell_type": "code",
   "execution_count": null,
   "metadata": {
    "id": "Sow4Omv7n3Qk"
   },
   "outputs": [],
   "source": [
    "#saving the model\n",
    "\n",
    "model.save('/content/drive/MyDrive/TCC2/models/cnn_' + str(number_labels)\n",
    "            + '_Labels_' + str(number_epochs) + '_epochs.h5')"
   ]
  },
  {
   "cell_type": "code",
   "execution_count": null,
   "metadata": {
    "colab": {
     "base_uri": "https://localhost:8080/"
    },
    "executionInfo": {
     "elapsed": 27,
     "status": "ok",
     "timestamp": 1635469719954,
     "user": {
      "displayName": "Diogo Sens",
      "photoUrl": "https://lh3.googleusercontent.com/a-/AOh14GgSHKqFTP-vX5KLJTdjcPzIATDC0RQQmAYcaoD65g=s64",
      "userId": "17020195363774089003"
     },
     "user_tz": 180
    },
    "id": "ISMDjbjlqQlm",
    "outputId": "5a1599ec-da6f-4471-aeac-7b2e9190a491"
   },
   "outputs": [],
   "source": [
    "#model architecture summary\n",
    "\n",
    "model.summary()"
   ]
  }
 ],
 "metadata": {
  "accelerator": "GPU",
  "colab": {
   "collapsed_sections": [],
   "machine_shape": "hm",
   "name": "cnn_training.ipynb",
   "provenance": []
  },
  "kernelspec": {
   "display_name": "Python 3 (ipykernel)",
   "language": "python",
   "name": "python3"
  },
  "language_info": {
   "codemirror_mode": {
    "name": "ipython",
    "version": 3
   },
   "file_extension": ".py",
   "mimetype": "text/x-python",
   "name": "python",
   "nbconvert_exporter": "python",
   "pygments_lexer": "ipython3",
   "version": "3.9.7"
  }
 },
 "nbformat": 4,
 "nbformat_minor": 1
}
