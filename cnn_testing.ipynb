{
 "cells": [
  {
   "cell_type": "code",
   "execution_count": null,
   "metadata": {
    "colab": {
     "base_uri": "https://localhost:8080/"
    },
    "executionInfo": {
     "elapsed": 330,
     "status": "ok",
     "timestamp": 1635470290221,
     "user": {
      "displayName": "Diogo Sens",
      "photoUrl": "https://lh3.googleusercontent.com/a-/AOh14GgSHKqFTP-vX5KLJTdjcPzIATDC0RQQmAYcaoD65g=s64",
      "userId": "17020195363774089003"
     },
     "user_tz": 180
    },
    "id": "DGlPzUqgWcu1",
    "outputId": "40d539a8-f40b-4db1-b1c1-95a23c2657e9"
   },
   "outputs": [],
   "source": [
    "#accessing Google Drive\n",
    "\n",
    "from google.colab import drive\n",
    "drive.mount('/content/drive')"
   ]
  },
  {
   "cell_type": "code",
   "execution_count": null,
   "metadata": {
    "id": "nLOiIQIQWAgX"
   },
   "outputs": [],
   "source": [
    "#libraries\n",
    "import numpy as np\n",
    "from tensorflow.keras.models import load_model\n",
    "from sklearn.metrics import confusion_matrix\n",
    "import itertools\n",
    "import matplotlib.pyplot as plt"
   ]
  },
  {
   "cell_type": "code",
   "execution_count": null,
   "metadata": {
    "id": "1xCOKh--VzRQ"
   },
   "outputs": [],
   "source": [
    "def plot_confusion_matrix(cm, classes,\n",
    "                          normalize=False,\n",
    "                          title='Matriz de Confusão',\n",
    "                          cmap=plt.cm.Blues):\n",
    "    \"\"\"\n",
    "    This function prints and plots the confusion matrix.\n",
    "    Normalization can be applied by setting `normalize=True`.\n",
    "    \"\"\"\n",
    "    plt.imshow(cm, interpolation='nearest', cmap=cmap)\n",
    "    plt.title(title)\n",
    "    plt.colorbar()\n",
    "    tick_marks = np.arange(len(classes))\n",
    "    plt.xticks(tick_marks, classes, rotation=45)\n",
    "    plt.yticks(tick_marks, classes)\n",
    "\n",
    "    if normalize:\n",
    "        cm = cm.astype('float') / cm.sum(axis=1)[:, np.newaxis]\n",
    "        print(\"Normalized confusion matrix\")\n",
    "    else:\n",
    "        print('Confusion matrix, without normalization')\n",
    "\n",
    "    print(cm)\n",
    "\n",
    "    thresh = cm.max() / 2.\n",
    "    for i, j in itertools.product(range(cm.shape[0]), range(cm.shape[1])):\n",
    "        plt.text(j, i, cm[i, j],\n",
    "            horizontalalignment=\"center\",\n",
    "            color=\"white\" if cm[i, j] > thresh else \"black\")\n",
    "\n",
    "    plt.tight_layout()\n",
    "    plt.ylabel('Classificação Verdadeira')\n",
    "    plt.xlabel('Classificação Prevista')\n",
    "\n",
    "def number_of_labels(number_labels):\n",
    "  if number_labels == 4:\n",
    "\n",
    "    #keeping 4 labels\n",
    "    #(changing labels range)\n",
    "    test_labels[test_labels == 1] = 0\n",
    "    test_labels[test_labels == 2] = 1\n",
    "    test_labels[test_labels == 3] = 2\n",
    "    test_labels[test_labels == 4] = 3\n",
    "\n",
    "  elif number_labels == 3:\n",
    "\n",
    "    #changing from 4 to 3 labels\n",
    "    #(merging partially deforested and partially preserved)\n",
    "    test_labels[test_labels == 3] = 2\n",
    "    test_labels[test_labels == 1] = 0\n",
    "    test_labels[test_labels == 2] = 1\n",
    "    test_labels[test_labels == 4] = 2\n",
    "\n",
    "  elif number_labels == 2:\n",
    "\n",
    "    #changing from 4 to 2 labels\n",
    "    #(merging partially deforested, partially preserved\n",
    "    #and totally deforested)\n",
    "    test_labels[test_labels == 3] = 1\n",
    "    test_labels[test_labels == 2] = 1\n",
    "    test_labels[test_labels == 1] = 0\n",
    "    test_labels[test_labels == 4] = 1"
   ]
  },
  {
   "cell_type": "code",
   "execution_count": null,
   "metadata": {
    "id": "oi5qmh_sWycx"
   },
   "outputs": [],
   "source": [
    "#loading testing dataset\n",
    "\n",
    "test_images = np.load(\"/content/drive/MyDrive/TCC2/npy_files/\"\n",
    "                      + \"test_images.npy\")\n",
    "test_labels = np.load(\"/content/drive/MyDrive/TCC2/npy_files/\"\n",
    "                      + \"test_labels.npy\")"
   ]
  },
  {
   "cell_type": "code",
   "execution_count": null,
   "metadata": {
    "colab": {
     "base_uri": "https://localhost:8080/"
    },
    "executionInfo": {
     "elapsed": 15893,
     "status": "ok",
     "timestamp": 1635470309876,
     "user": {
      "displayName": "Diogo Sens",
      "photoUrl": "https://lh3.googleusercontent.com/a-/AOh14GgSHKqFTP-vX5KLJTdjcPzIATDC0RQQmAYcaoD65g=s64",
      "userId": "17020195363774089003"
     },
     "user_tz": 180
    },
    "id": "RDe_by0OYXWh",
    "outputId": "a53507a8-f57a-422f-8ef2-0b790185a94b"
   },
   "outputs": [],
   "source": [
    "#choosing the number of labels\n",
    "\n",
    "number_labels = int(input(\"Number of labels? \"))\n",
    "number_epochs = int(input(\"Number of epochs? \"))\n",
    "\n",
    "number_of_labels(number_labels)"
   ]
  },
  {
   "cell_type": "code",
   "execution_count": null,
   "metadata": {
    "colab": {
     "base_uri": "https://localhost:8080/"
    },
    "executionInfo": {
     "elapsed": 96746,
     "status": "ok",
     "timestamp": 1635470406619,
     "user": {
      "displayName": "Diogo Sens",
      "photoUrl": "https://lh3.googleusercontent.com/a-/AOh14GgSHKqFTP-vX5KLJTdjcPzIATDC0RQQmAYcaoD65g=s64",
      "userId": "17020195363774089003"
     },
     "user_tz": 180
    },
    "id": "I8AF60JsUzPG",
    "outputId": "e9aa7fda-f3d0-4c0a-94d1-9fb7c9f37d3b"
   },
   "outputs": [],
   "source": [
    "#loading the model\n",
    "\n",
    "model = load_model('/content/drive/MyDrive/TCC2/models/cnn_'\n",
    "                    + str(number_labels) + '_Labels_' + str(number_epochs)\n",
    "                    + '_epochs.h5')\n",
    "test_loss, test_acc = model.evaluate(test_images,  test_labels, verbose=2)"
   ]
  },
  {
   "cell_type": "code",
   "execution_count": null,
   "metadata": {
    "colab": {
     "base_uri": "https://localhost:8080/"
    },
    "executionInfo": {
     "elapsed": 142359,
     "status": "ok",
     "timestamp": 1635470548971,
     "user": {
      "displayName": "Diogo Sens",
      "photoUrl": "https://lh3.googleusercontent.com/a-/AOh14GgSHKqFTP-vX5KLJTdjcPzIATDC0RQQmAYcaoD65g=s64",
      "userId": "17020195363774089003"
     },
     "user_tz": 180
    },
    "id": "xL-bxDtRVtuD",
    "outputId": "336c592c-6d93-414e-dfd4-3c74dd09b0eb"
   },
   "outputs": [],
   "source": [
    "#making prediction with test dataset\n",
    "\n",
    "predictions = model.predict(x=test_images, steps=len(test_images),\n",
    "                            verbose=1)\n",
    "predictions = np.round(predictions)"
   ]
  },
  {
   "cell_type": "code",
   "execution_count": null,
   "metadata": {
    "colab": {
     "base_uri": "https://localhost:8080/",
     "height": 403
    },
    "executionInfo": {
     "elapsed": 32,
     "status": "ok",
     "timestamp": 1635470548984,
     "user": {
      "displayName": "Diogo Sens",
      "photoUrl": "https://lh3.googleusercontent.com/a-/AOh14GgSHKqFTP-vX5KLJTdjcPzIATDC0RQQmAYcaoD65g=s64",
      "userId": "17020195363774089003"
     },
     "user_tz": 180
    },
    "id": "mQhDJolrV3ml",
    "outputId": "1a9893f7-243c-4bdb-89d4-2bdfec0b28c2"
   },
   "outputs": [],
   "source": [
    "#plotting confusion matrix\n",
    "\n",
    "cm = confusion_matrix(y_true=test_labels,\n",
    "                      y_pred=np.argmax(predictions, axis=-1))\n",
    "if number_labels == 4:\n",
    "  cm_plot_labels = ['Totalmente Desmatado',\n",
    "                    'Parcialmente Desmatado',\n",
    "                    'Parcialmente Preservado',\n",
    "                    'Totalmente Preservado']\n",
    "elif number_labels == 3:\n",
    "  cm_plot_labels = ['Totalmente Desmatado',\n",
    "                    'Parcialmente Desamatado',\n",
    "                    'Totalmente Preservado']\n",
    "elif number_labels == 2:\n",
    "  cm_plot_labels = ['Desmatado', 'Preservado']\n",
    "\n",
    "plot_confusion_matrix(cm=cm, classes=cm_plot_labels)"
   ]
  }
 ],
 "metadata": {
  "colab": {
   "authorship_tag": "ABX9TyPlhuwKVC1x11Kh/7Ms7+Er",
   "name": "cnn_testing.ipynb",
   "provenance": []
  },
  "kernelspec": {
   "display_name": "Python 3 (ipykernel)",
   "language": "python",
   "name": "python3"
  },
  "language_info": {
   "codemirror_mode": {
    "name": "ipython",
    "version": 3
   },
   "file_extension": ".py",
   "mimetype": "text/x-python",
   "name": "python",
   "nbconvert_exporter": "python",
   "pygments_lexer": "ipython3",
   "version": "3.9.7"
  }
 },
 "nbformat": 4,
 "nbformat_minor": 1
}
